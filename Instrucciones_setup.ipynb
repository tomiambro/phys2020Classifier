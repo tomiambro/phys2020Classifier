{
 "cells": [
  {
   "cell_type": "markdown",
   "metadata": {},
   "source": [
    "## Conda"
   ]
  },
  {
   "cell_type": "markdown",
   "metadata": {},
   "source": [
    "*conda activate fastai*\n",
    "\n",
    "Tiene todo lo que es de jupyter\n",
    "\n",
    "*conda activate gibio*\n",
    "\n",
    "Tiene todo lo que se corre directo en la consola (armar los datasets)"
   ]
  },
  {
   "cell_type": "markdown",
   "metadata": {},
   "source": [
    "## DVC"
   ]
  },
  {
   "cell_type": "markdown",
   "metadata": {},
   "source": [
    "Comandos utiles:\n",
    "\n",
    "*dvc init*\n",
    "\n",
    "*dvc status*\n",
    "\n",
    "*dvc add*\n",
    "\n",
    "*dvc pull*\n",
    "\n",
    "*dvc commit -m \"\"*\n",
    "\n",
    "*dvc push*"
   ]
  },
  {
   "cell_type": "markdown",
   "metadata": {},
   "source": [
    "Para agregar remotes:\n",
    "\n",
    "\n",
    "*dvc remote add -d tomdrive gdrive://1PkCTNmoM__aOi4ZkkTtdVO50lH57bXRb*"
   ]
  },
  {
   "cell_type": "markdown",
   "metadata": {},
   "source": [
    "## MLFlow"
   ]
  },
  {
   "cell_type": "markdown",
   "metadata": {},
   "source": [
    "mlflow corre en el env fastai de conda\n",
    "\n",
    "Comandos utiles:\n",
    "\n",
    "*mlflow ui*"
   ]
  }
 ],
 "metadata": {
  "kernelspec": {
   "display_name": "Python 3",
   "language": "python",
   "name": "python3"
  },
  "language_info": {
   "codemirror_mode": {
    "name": "ipython",
    "version": 3
   },
   "file_extension": ".py",
   "mimetype": "text/x-python",
   "name": "python",
   "nbconvert_exporter": "python",
   "pygments_lexer": "ipython3",
   "version": "3.6.10"
  }
 },
 "nbformat": 4,
 "nbformat_minor": 4
}
