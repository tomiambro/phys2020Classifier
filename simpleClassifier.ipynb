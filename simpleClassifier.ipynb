{
 "cells": [
  {
   "cell_type": "markdown",
   "metadata": {},
   "source": [
    "# Analizing simple statistics features from Lead-1"
   ]
  },
  {
   "cell_type": "code",
   "execution_count": 1,
   "metadata": {
    "scrolled": false
   },
   "outputs": [],
   "source": [
    "%load_ext autoreload\n",
    "%autoreload 2"
   ]
  },
  {
   "cell_type": "markdown",
   "metadata": {},
   "source": [
    "### Adding imports\n",
    "\n",
    "Using fastai library, more on https://www.fast.ai/\n",
    "\n",
    "Repo to the library can be found on https://github.com/fastai/fastai\n",
    "\n",
    "This Deep Learning library is being used mainly for some handy data processing functions like \"proc_df\" or \"rf_feature_importance\".\n",
    "\n",
    "For more information on those run:\n",
    "\n",
    "?proc_df"
   ]
  },
  {
   "cell_type": "code",
   "execution_count": 3,
   "metadata": {},
   "outputs": [],
   "source": [
    "import sys\n",
    "import os\n",
    "#sys.path.append(\"../../tutorials/fastai/old/\") # go to parent dir\n",
    "\n",
    "import pandas as pd\n",
    "import numpy as np\n",
    "%matplotlib inline\n",
    "import matplotlib.pyplot as plt\n",
    "import scipy\n",
    "\n",
    "from xverse.transformer import WOE\n",
    "\n",
    "#from fastai.imports import *\n",
    "from structured import *\n",
    "\n",
    "from pandas_summary import DataFrameSummary\n",
    "from sklearn.ensemble import RandomForestClassifier\n",
    "from IPython.display import display\n",
    "\n",
    "from sklearn import metrics\n",
    "from sklearn.metrics import f1_score, fbeta_score, make_scorer\n",
    "\n",
    "import mlflow\n",
    "import mlflow.sklearn\n",
    "\n",
    "import plotly.express as px"
   ]
  },
  {
   "cell_type": "code",
   "execution_count": 14,
   "metadata": {},
   "outputs": [],
   "source": [
    "def print_fscores(m, x, y):\n",
    "    res = [f1_score(y, m.predict(x), average='weighted'), fbeta_score(y, m.predict(x), beta=2, average='weighted')]\n",
    "    print(res)"
   ]
  },
  {
   "cell_type": "markdown",
   "metadata": {},
   "source": [
    "### Path to previously saved data"
   ]
  },
  {
   "cell_type": "code",
   "execution_count": 35,
   "metadata": {},
   "outputs": [],
   "source": [
    "PATH = \"datasets/base\""
   ]
  },
  {
   "cell_type": "code",
   "execution_count": 36,
   "metadata": {},
   "outputs": [
    {
     "name": "stdout",
     "output_type": "stream",
     "text": [
      "pyhs-raw  pyhs-raw-corrected\r\n"
     ]
    }
   ],
   "source": [
    "!ls {PATH}"
   ]
  },
  {
   "cell_type": "markdown",
   "metadata": {},
   "source": [
    "### Loading raw statistics data"
   ]
  },
  {
   "cell_type": "code",
   "execution_count": 5,
   "metadata": {
    "scrolled": false
   },
   "outputs": [],
   "source": [
    "lead = 'lead2'\n",
    "df_raw = pd.read_feather('datasets/corrected/pyhs-raw-lead2-corrected')"
   ]
  },
  {
   "cell_type": "code",
   "execution_count": 6,
   "metadata": {},
   "outputs": [
    {
     "data": {
      "text/html": [
       "<div>\n",
       "<style scoped>\n",
       "    .dataframe tbody tr th:only-of-type {\n",
       "        vertical-align: middle;\n",
       "    }\n",
       "\n",
       "    .dataframe tbody tr th {\n",
       "        vertical-align: top;\n",
       "    }\n",
       "\n",
       "    .dataframe thead th {\n",
       "        text-align: right;\n",
       "    }\n",
       "</style>\n",
       "<table border=\"1\" class=\"dataframe\">\n",
       "  <thead>\n",
       "    <tr style=\"text-align: right;\">\n",
       "      <th></th>\n",
       "      <th>AF</th>\n",
       "      <th>I-AVB</th>\n",
       "      <th>LBBB</th>\n",
       "      <th>Normal</th>\n",
       "      <th>PAC</th>\n",
       "      <th>PVC</th>\n",
       "      <th>RBBB</th>\n",
       "      <th>STD</th>\n",
       "      <th>STE</th>\n",
       "    </tr>\n",
       "  </thead>\n",
       "  <tbody>\n",
       "    <tr>\n",
       "      <th>count</th>\n",
       "      <td>6877.000000</td>\n",
       "      <td>6877.000000</td>\n",
       "      <td>6877.000000</td>\n",
       "      <td>6877.000000</td>\n",
       "      <td>6877.000000</td>\n",
       "      <td>6877.000000</td>\n",
       "      <td>6877.000000</td>\n",
       "      <td>6877.000000</td>\n",
       "      <td>6877.000000</td>\n",
       "    </tr>\n",
       "    <tr>\n",
       "      <th>mean</th>\n",
       "      <td>0.177548</td>\n",
       "      <td>0.104988</td>\n",
       "      <td>0.028937</td>\n",
       "      <td>0.133488</td>\n",
       "      <td>0.079104</td>\n",
       "      <td>0.091173</td>\n",
       "      <td>0.243566</td>\n",
       "      <td>0.114294</td>\n",
       "      <td>0.026901</td>\n",
       "    </tr>\n",
       "    <tr>\n",
       "      <th>std</th>\n",
       "      <td>0.382160</td>\n",
       "      <td>0.306560</td>\n",
       "      <td>0.167642</td>\n",
       "      <td>0.340127</td>\n",
       "      <td>0.269921</td>\n",
       "      <td>0.287877</td>\n",
       "      <td>0.429265</td>\n",
       "      <td>0.318191</td>\n",
       "      <td>0.161807</td>\n",
       "    </tr>\n",
       "    <tr>\n",
       "      <th>min</th>\n",
       "      <td>0.000000</td>\n",
       "      <td>0.000000</td>\n",
       "      <td>0.000000</td>\n",
       "      <td>0.000000</td>\n",
       "      <td>0.000000</td>\n",
       "      <td>0.000000</td>\n",
       "      <td>0.000000</td>\n",
       "      <td>0.000000</td>\n",
       "      <td>0.000000</td>\n",
       "    </tr>\n",
       "    <tr>\n",
       "      <th>25%</th>\n",
       "      <td>0.000000</td>\n",
       "      <td>0.000000</td>\n",
       "      <td>0.000000</td>\n",
       "      <td>0.000000</td>\n",
       "      <td>0.000000</td>\n",
       "      <td>0.000000</td>\n",
       "      <td>0.000000</td>\n",
       "      <td>0.000000</td>\n",
       "      <td>0.000000</td>\n",
       "    </tr>\n",
       "    <tr>\n",
       "      <th>50%</th>\n",
       "      <td>0.000000</td>\n",
       "      <td>0.000000</td>\n",
       "      <td>0.000000</td>\n",
       "      <td>0.000000</td>\n",
       "      <td>0.000000</td>\n",
       "      <td>0.000000</td>\n",
       "      <td>0.000000</td>\n",
       "      <td>0.000000</td>\n",
       "      <td>0.000000</td>\n",
       "    </tr>\n",
       "    <tr>\n",
       "      <th>75%</th>\n",
       "      <td>0.000000</td>\n",
       "      <td>0.000000</td>\n",
       "      <td>0.000000</td>\n",
       "      <td>0.000000</td>\n",
       "      <td>0.000000</td>\n",
       "      <td>0.000000</td>\n",
       "      <td>0.000000</td>\n",
       "      <td>0.000000</td>\n",
       "      <td>0.000000</td>\n",
       "    </tr>\n",
       "    <tr>\n",
       "      <th>max</th>\n",
       "      <td>1.000000</td>\n",
       "      <td>1.000000</td>\n",
       "      <td>1.000000</td>\n",
       "      <td>1.000000</td>\n",
       "      <td>1.000000</td>\n",
       "      <td>1.000000</td>\n",
       "      <td>1.000000</td>\n",
       "      <td>1.000000</td>\n",
       "      <td>1.000000</td>\n",
       "    </tr>\n",
       "  </tbody>\n",
       "</table>\n",
       "</div>"
      ],
      "text/plain": [
       "                AF        I-AVB         LBBB       Normal          PAC  \\\n",
       "count  6877.000000  6877.000000  6877.000000  6877.000000  6877.000000   \n",
       "mean      0.177548     0.104988     0.028937     0.133488     0.079104   \n",
       "std       0.382160     0.306560     0.167642     0.340127     0.269921   \n",
       "min       0.000000     0.000000     0.000000     0.000000     0.000000   \n",
       "25%       0.000000     0.000000     0.000000     0.000000     0.000000   \n",
       "50%       0.000000     0.000000     0.000000     0.000000     0.000000   \n",
       "75%       0.000000     0.000000     0.000000     0.000000     0.000000   \n",
       "max       1.000000     1.000000     1.000000     1.000000     1.000000   \n",
       "\n",
       "               PVC         RBBB          STD          STE  \n",
       "count  6877.000000  6877.000000  6877.000000  6877.000000  \n",
       "mean      0.091173     0.243566     0.114294     0.026901  \n",
       "std       0.287877     0.429265     0.318191     0.161807  \n",
       "min       0.000000     0.000000     0.000000     0.000000  \n",
       "25%       0.000000     0.000000     0.000000     0.000000  \n",
       "50%       0.000000     0.000000     0.000000     0.000000  \n",
       "75%       0.000000     0.000000     0.000000     0.000000  \n",
       "max       1.000000     1.000000     1.000000     1.000000  "
      ]
     },
     "execution_count": 6,
     "metadata": {},
     "output_type": "execute_result"
    }
   ],
   "source": [
    "labels = pd.get_dummies(df_raw['label'])\n",
    "labels.describe()"
   ]
  },
  {
   "cell_type": "code",
   "execution_count": 7,
   "metadata": {},
   "outputs": [],
   "source": [
    "df_raw['PT_duration'] = df_raw['mean_T_Offsets'] - df_raw['mean_P_Onsets']\n",
    "df_raw.drop(['mean_T_Offsets', 'mean_P_Onsets'], axis=1, inplace=True)"
   ]
  },
  {
   "cell_type": "markdown",
   "metadata": {},
   "source": [
    "## Split between Train and Validation Datasets"
   ]
  },
  {
   "cell_type": "code",
   "execution_count": 8,
   "metadata": {},
   "outputs": [],
   "source": [
    "from sklearn.model_selection import train_test_split\n",
    "\n",
    "y = df_raw['label']\n",
    "X = df_raw.drop('label', axis=1)\n",
    "X_train, X_eval, y_train, y_eval = train_test_split(X, y, test_size=0.2, random_state=42)\n",
    "\n",
    "df_train = X_train.copy()\n",
    "df_eval = X_eval.copy()\n",
    "df_train.insert(loc=len(X_train.columns), column='label', value=y_train)\n",
    "df_eval.insert(loc=len(X_eval.columns), column='label', value=y_eval)"
   ]
  },
  {
   "cell_type": "code",
   "execution_count": 9,
   "metadata": {},
   "outputs": [],
   "source": [
    "X_train, y_train, nas = proc_df(df_train, 'label')\n",
    "X_eval, y_eval, nas = proc_df(df_eval, 'label', na_dict=nas)"
   ]
  },
  {
   "cell_type": "code",
   "execution_count": 10,
   "metadata": {},
   "outputs": [
    {
     "name": "stdout",
     "output_type": "stream",
     "text": [
      "CPU times: user 30.2 s, sys: 380 ms, total: 30.6 s\n",
      "Wall time: 6.35 s\n"
     ]
    },
    {
     "data": {
      "text/plain": [
       "(1.0, 0.5959302325581395, 0.5942555898927467)"
      ]
     },
     "execution_count": 10,
     "metadata": {},
     "output_type": "execute_result"
    }
   ],
   "source": [
    "m_af = RandomForestClassifier(n_estimators=1000, min_samples_leaf=1, max_features='sqrt', n_jobs=7, oob_score=True)\n",
    "\n",
    "%time m_af.fit(X_train, y_train)\n",
    "\n",
    "m_af.score(X_train,y_train), m_af.score(X_eval, y_eval), m_af.oob_score_"
   ]
  },
  {
   "cell_type": "code",
   "execution_count": 15,
   "metadata": {},
   "outputs": [
    {
     "name": "stdout",
     "output_type": "stream",
     "text": [
      "[0.5690569710381738, 0.5817799317475856]\n"
     ]
    }
   ],
   "source": [
    "print_fscores(m_af, X_eval, y_eval)"
   ]
  },
  {
   "cell_type": "markdown",
   "metadata": {},
   "source": [
    "## Some feature engineering"
   ]
  },
  {
   "cell_type": "markdown",
   "metadata": {},
   "source": [
    "### Removing some columns"
   ]
  },
  {
   "cell_type": "markdown",
   "metadata": {},
   "source": [
    "## Taking a look at Feature Importance"
   ]
  },
  {
   "cell_type": "code",
   "execution_count": 17,
   "metadata": {},
   "outputs": [],
   "source": [
    "fi = rf_feat_importance(m_af, X_train)"
   ]
  },
  {
   "cell_type": "code",
   "execution_count": 18,
   "metadata": {},
   "outputs": [],
   "source": [
    "def plot_fi(fi): return fi.plot('cols', 'imp', 'barh', figsize=(12,7), legend=False)"
   ]
  },
  {
   "cell_type": "code",
   "execution_count": 19,
   "metadata": {
    "scrolled": false
   },
   "outputs": [
    {
     "data": {
      "image/png": "[encoded data removed]",
      "text/plain": [
       "<Figure size 864x504 with 1 Axes>"
      ]
     },
     "metadata": {
      "needs_background": "light"
     },
     "output_type": "display_data"
    }
   ],
   "source": [
    "plot_fi(fi[:25]);"
   ]
  },
  {
   "cell_type": "code",
   "execution_count": 36,
   "metadata": {},
   "outputs": [
    {
     "data": {
      "text/plain": [
       "(17,\n",
       " ['mean_P_Peaks',\n",
       "  'mean_S_Peaks',\n",
       "  'mean_Q_Peaks',\n",
       "  'PT_duration',\n",
       "  'age',\n",
       "  'HRV',\n",
       "  'kurt_R_Peaks',\n",
       "  'mean_T_Peaks',\n",
       "  'skew_R_Peaks',\n",
       "  'RSSSD',\n",
       "  'fmax',\n",
       "  'median_R_Peaks',\n",
       "  'mean_R_Peaks',\n",
       "  'std_R_Peaks',\n",
       "  'var_R_Peaks',\n",
       "  'var_RR',\n",
       "  'std_RR'])"
      ]
     },
     "execution_count": 36,
     "metadata": {},
     "output_type": "execute_result"
    }
   ],
   "source": [
    "thresh = 0.034\n",
    "to_keep = list(fi[fi['imp'] > thresh].cols)\n",
    "\n",
    "X_train_keep = X_train[to_keep]\n",
    "X_eval_keep = X_eval[to_keep]\n",
    "\n",
    "len(to_keep), to_keep"
   ]
  },
  {
   "cell_type": "code",
   "execution_count": 37,
   "metadata": {},
   "outputs": [
    {
     "name": "stdout",
     "output_type": "stream",
     "text": [
      "CPU times: user 32.6 s, sys: 268 ms, total: 32.8 s\n",
      "Wall time: 6.5 s\n",
      "[0.570584777269124, 0.5836686888307084]\n"
     ]
    }
   ],
   "source": [
    "m_af = RandomForestClassifier(n_estimators=1000, min_samples_leaf=1, max_features='sqrt', n_jobs=7, oob_score=True)\n",
    "\n",
    "%time m_af.fit(X_train_keep, y_train)\n",
    "\n",
    "print_fscores(m_af, X_eval_keep, y_eval)"
   ]
  }
 ],
 "metadata": {
  "kernelspec": {
   "display_name": "Python 3",
   "language": "python",
   "name": "python3"
  },
  "language_info": {
   "codemirror_mode": {
    "name": "ipython",
    "version": 3
   },
   "file_extension": ".py",
   "mimetype": "text/x-python",
   "name": "python",
   "nbconvert_exporter": "python",
   "pygments_lexer": "ipython3",
   "version": "3.6.11"
  }
 },
 "nbformat": 4,
 "nbformat_minor": 4
}
