{
 "cells": [
  {
   "cell_type": "code",
   "execution_count": 10,
   "metadata": {},
   "outputs": [],
   "source": [
    "import sys\n",
    "import os\n",
    "#sys.path.append(\"../../tutorials/fastai/old/\") # go to parent dir\n",
    "\n",
    "import pandas as pd\n",
    "import numpy as np\n",
    "%matplotlib inline\n",
    "import matplotlib.pyplot as plt\n",
    "import scipy\n",
    "\n",
    "\n",
    "from xverse.transformer import WOE\n",
    "\n",
    "from structured import *\n",
    "\n",
    "from pandas_summary import DataFrameSummary\n",
    "from sklearn.ensemble import RandomForestClassifier, ExtraTreesClassifier\n",
    "from IPython.display import display\n",
    "\n",
    "from sklearn import metrics\n",
    "from sklearn.metrics import f1_score, fbeta_score, make_scorer, precision_score, recall_score\n",
    "\n",
    "import mlflow\n",
    "import mlflow.sklearn\n",
    "\n",
    "import plotly.express as px"
   ]
  },
  {
   "cell_type": "code",
   "execution_count": 4,
   "metadata": {},
   "outputs": [],
   "source": [
    "from sklearn.model_selection import train_test_split\n",
    "df = pd.read_feather('datasets/fitted/af-dataset-' + 'lead2')\n",
    "\n",
    "y = df['label']\n",
    "X = df.drop('label', axis=1)\n",
    "X_train, X_eval, y_train, y_eval = train_test_split(X, y, test_size=0.2, random_state=42)\n",
    "\n",
    "df_train = X_train.copy()\n",
    "df_eval = X_eval.copy()\n",
    "df_train.insert(loc=len(X_train.columns), column='label', value=y_train)\n",
    "df_eval.insert(loc=len(X_eval.columns), column='label', value=y_eval)\n",
    "\n",
    "df_train.drop(['index'], axis=1, inplace=True)\n",
    "df_eval.drop(['index'], axis=1, inplace=True)"
   ]
  },
  {
   "cell_type": "code",
   "execution_count": 15,
   "metadata": {},
   "outputs": [
    {
     "name": "stdout",
     "output_type": "stream",
     "text": [
      "F1 Score: 0.8295964125560538\n",
      "Precision: 0.8604651162790697\n",
      "Recall: 0.8008658008658008\n"
     ]
    }
   ],
   "source": [
    "X_train, y_train, nas = proc_df(df_train, 'label')\n",
    "X_eval, y_eval, nas = proc_df(df_eval, 'label', na_dict=nas)\n",
    "\n",
    "m_af = RandomForestClassifier(n_estimators=1000, min_samples_leaf=1, max_features='sqrt', n_jobs=7, oob_score=True)\n",
    "m_af.fit(X_train, y_train)\n",
    "\n",
    "print(f'F1 Score: {f1_score(y_eval, m_af.predict(X_eval), pos_label=0)}')\n",
    "print(f'Precision: {precision_score(y_eval, m_af.predict(X_eval), pos_label=0)}')\n",
    "print(f'Recall: {recall_score(y_eval, m_af.predict(X_eval), pos_label=0)}')"
   ]
  },
  {
   "cell_type": "code",
   "execution_count": 16,
   "metadata": {},
   "outputs": [
    {
     "name": "stdout",
     "output_type": "stream",
     "text": [
      "F1 Score: 0.8132387706855793\n",
      "Precision: 0.8958333333333334\n",
      "Recall: 0.7445887445887446\n"
     ]
    }
   ],
   "source": [
    "m_af = ExtraTreesClassifier(n_estimators=1000, min_samples_leaf=1, max_features='sqrt', n_jobs=7)\n",
    "m_af.fit(X_train, y_train)\n",
    "\n",
    "print(f'F1 Score: {f1_score(y_eval, m_af.predict(X_eval), pos_label=0)}')\n",
    "print(f'Precision: {precision_score(y_eval, m_af.predict(X_eval), pos_label=0)}')\n",
    "print(f'Recall: {recall_score(y_eval, m_af.predict(X_eval), pos_label=0)}')"
   ]
  }
 ],
 "metadata": {
  "kernelspec": {
   "display_name": "Python 3",
   "language": "python",
   "name": "python3"
  },
  "language_info": {
   "codemirror_mode": {
    "name": "ipython",
    "version": 3
   },
   "file_extension": ".py",
   "mimetype": "text/x-python",
   "name": "python",
   "nbconvert_exporter": "python",
   "pygments_lexer": "ipython3",
   "version": "3.6.11"
  }
 },
 "nbformat": 4,
 "nbformat_minor": 4
}
