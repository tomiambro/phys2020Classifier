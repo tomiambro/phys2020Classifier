{
 "cells": [
  {
   "cell_type": "markdown",
   "metadata": {},
   "source": [
    "# Single label Classifier - AF Detection"
   ]
  },
  {
   "cell_type": "code",
   "execution_count": 1,
   "metadata": {},
   "outputs": [],
   "source": [
    "%load_ext autoreload\n",
    "%autoreload 2\n",
    "%reload_ext autoreload"
   ]
  },
  {
   "cell_type": "code",
   "execution_count": 3,
   "metadata": {
    "scrolled": true
   },
   "outputs": [],
   "source": [
    "import sys\n",
    "sys.path.append(\"../../tutorials/fastai/old/\") # go to parent dir\n",
    "\n",
    "from fastai.imports import *\n",
    "from fastai.structured import *\n",
    "\n",
    "from pandas_summary import DataFrameSummary\n",
    "from sklearn.ensemble import RandomForestClassifier\n",
    "from IPython.display import display\n",
    "\n",
    "from sklearn import metrics\n",
    "from sklearn.metrics import f1_score, fbeta_score, make_scorer\n",
    "\n",
    "import mlflow\n",
    "import mlflow.sklearn"
   ]
  },
  {
   "cell_type": "markdown",
   "metadata": {},
   "source": [
    "## Helper functions"
   ]
  },
  {
   "cell_type": "code",
   "execution_count": 4,
   "metadata": {},
   "outputs": [],
   "source": [
    "def display_all(df):\n",
    "    with pd.option_context(\"display.max_rows\", 1000, \"display.max_columns\", 1000): \n",
    "        display(df)"
   ]
  },
  {
   "cell_type": "code",
   "execution_count": 5,
   "metadata": {},
   "outputs": [],
   "source": [
    "def print_fscores(m, x, y):\n",
    "    res = [f1_score(y, m.predict(x)), fbeta_score(y, m.predict(x), beta=2)]\n",
    "    print(res)"
   ]
  },
  {
   "cell_type": "code",
   "execution_count": 6,
   "metadata": {},
   "outputs": [],
   "source": [
    "lead = 'lead2'"
   ]
  },
  {
   "cell_type": "code",
   "execution_count": 7,
   "metadata": {
    "scrolled": false
   },
   "outputs": [
    {
     "data": {
      "text/html": [
       "<div>\n",
       "<style scoped>\n",
       "    .dataframe tbody tr th:only-of-type {\n",
       "        vertical-align: middle;\n",
       "    }\n",
       "\n",
       "    .dataframe tbody tr th {\n",
       "        vertical-align: top;\n",
       "    }\n",
       "\n",
       "    .dataframe thead th {\n",
       "        text-align: right;\n",
       "    }\n",
       "</style>\n",
       "<table border=\"1\" class=\"dataframe\">\n",
       "  <thead>\n",
       "    <tr style=\"text-align: right;\">\n",
       "      <th></th>\n",
       "      <th>mean_P_Peaks</th>\n",
       "      <th>mean_Q_Peaks</th>\n",
       "      <th>HRV</th>\n",
       "      <th>mean_T_Peaks</th>\n",
       "      <th>kurt_R_Peaks</th>\n",
       "      <th>age</th>\n",
       "      <th>skew_R_Peaks</th>\n",
       "      <th>fmax</th>\n",
       "      <th>mean_S_Peaks</th>\n",
       "      <th>std_R_Peaks</th>\n",
       "      <th>PT_duration</th>\n",
       "      <th>label</th>\n",
       "    </tr>\n",
       "  </thead>\n",
       "  <tbody>\n",
       "    <tr>\n",
       "      <th>4383</th>\n",
       "      <td>92.050000</td>\n",
       "      <td>-69.550000</td>\n",
       "      <td>331.332091</td>\n",
       "      <td>39.200000</td>\n",
       "      <td>2.548453</td>\n",
       "      <td>53</td>\n",
       "      <td>-2.085590</td>\n",
       "      <td>6.823821</td>\n",
       "      <td>-165.050000</td>\n",
       "      <td>6.420436e+05</td>\n",
       "      <td>519.400000</td>\n",
       "      <td>Non-AF</td>\n",
       "    </tr>\n",
       "    <tr>\n",
       "      <th>3538</th>\n",
       "      <td>38.272727</td>\n",
       "      <td>-66.363636</td>\n",
       "      <td>275.412170</td>\n",
       "      <td>62.545455</td>\n",
       "      <td>-1.939266</td>\n",
       "      <td>80</td>\n",
       "      <td>0.116944</td>\n",
       "      <td>3.476934</td>\n",
       "      <td>-60.272727</td>\n",
       "      <td>9.170248e+05</td>\n",
       "      <td>535.090909</td>\n",
       "      <td>Non-AF</td>\n",
       "    </tr>\n",
       "    <tr>\n",
       "      <th>4943</th>\n",
       "      <td>33.052632</td>\n",
       "      <td>-159.263158</td>\n",
       "      <td>187.249508</td>\n",
       "      <td>106.684211</td>\n",
       "      <td>-1.991971</td>\n",
       "      <td>53</td>\n",
       "      <td>0.006135</td>\n",
       "      <td>4.072592</td>\n",
       "      <td>-3.473684</td>\n",
       "      <td>2.103260e+06</td>\n",
       "      <td>572.421053</td>\n",
       "      <td>Non-AF</td>\n",
       "    </tr>\n",
       "    <tr>\n",
       "      <th>5810</th>\n",
       "      <td>-74.571429</td>\n",
       "      <td>-157.380952</td>\n",
       "      <td>255.537891</td>\n",
       "      <td>364.095238</td>\n",
       "      <td>-1.886651</td>\n",
       "      <td>15</td>\n",
       "      <td>0.097520</td>\n",
       "      <td>1.047819</td>\n",
       "      <td>-268.619048</td>\n",
       "      <td>4.525275e+06</td>\n",
       "      <td>487.809524</td>\n",
       "      <td>Non-AF</td>\n",
       "    </tr>\n",
       "    <tr>\n",
       "      <th>3429</th>\n",
       "      <td>137.625000</td>\n",
       "      <td>-164.375000</td>\n",
       "      <td>310.791616</td>\n",
       "      <td>73.062500</td>\n",
       "      <td>-0.468678</td>\n",
       "      <td>76</td>\n",
       "      <td>-1.126299</td>\n",
       "      <td>2.604989</td>\n",
       "      <td>-90.812500</td>\n",
       "      <td>1.158203e+06</td>\n",
       "      <td>481.000000</td>\n",
       "      <td>Non-AF</td>\n",
       "    </tr>\n",
       "    <tr>\n",
       "      <th>...</th>\n",
       "      <td>...</td>\n",
       "      <td>...</td>\n",
       "      <td>...</td>\n",
       "      <td>...</td>\n",
       "      <td>...</td>\n",
       "      <td>...</td>\n",
       "      <td>...</td>\n",
       "      <td>...</td>\n",
       "      <td>...</td>\n",
       "      <td>...</td>\n",
       "      <td>...</td>\n",
       "      <td>...</td>\n",
       "    </tr>\n",
       "    <tr>\n",
       "      <th>3772</th>\n",
       "      <td>-8.666667</td>\n",
       "      <td>-74.916667</td>\n",
       "      <td>229.332055</td>\n",
       "      <td>132.208333</td>\n",
       "      <td>5.629034</td>\n",
       "      <td>63</td>\n",
       "      <td>1.715212</td>\n",
       "      <td>0.762050</td>\n",
       "      <td>-69.375000</td>\n",
       "      <td>7.042247e+05</td>\n",
       "      <td>574.833333</td>\n",
       "      <td>AF</td>\n",
       "    </tr>\n",
       "    <tr>\n",
       "      <th>5191</th>\n",
       "      <td>109.410256</td>\n",
       "      <td>-91.717949</td>\n",
       "      <td>337.199422</td>\n",
       "      <td>45.461538</td>\n",
       "      <td>15.295272</td>\n",
       "      <td>64</td>\n",
       "      <td>-3.656884</td>\n",
       "      <td>2.926359</td>\n",
       "      <td>-145.923077</td>\n",
       "      <td>4.360616e+05</td>\n",
       "      <td>497.948718</td>\n",
       "      <td>Non-AF</td>\n",
       "    </tr>\n",
       "    <tr>\n",
       "      <th>5226</th>\n",
       "      <td>11.600000</td>\n",
       "      <td>-28.466667</td>\n",
       "      <td>289.548533</td>\n",
       "      <td>48.933333</td>\n",
       "      <td>0.848942</td>\n",
       "      <td>75</td>\n",
       "      <td>-1.590086</td>\n",
       "      <td>3.101240</td>\n",
       "      <td>-67.533333</td>\n",
       "      <td>3.631268e+05</td>\n",
       "      <td>487.600000</td>\n",
       "      <td>AF</td>\n",
       "    </tr>\n",
       "    <tr>\n",
       "      <th>5390</th>\n",
       "      <td>38.600000</td>\n",
       "      <td>-130.600000</td>\n",
       "      <td>307.268516</td>\n",
       "      <td>174.500000</td>\n",
       "      <td>-1.650002</td>\n",
       "      <td>48</td>\n",
       "      <td>-0.294958</td>\n",
       "      <td>2.100840</td>\n",
       "      <td>-193.400000</td>\n",
       "      <td>3.802282e+05</td>\n",
       "      <td>551.800000</td>\n",
       "      <td>Non-AF</td>\n",
       "    </tr>\n",
       "    <tr>\n",
       "      <th>860</th>\n",
       "      <td>27.500000</td>\n",
       "      <td>-160.812500</td>\n",
       "      <td>173.643610</td>\n",
       "      <td>188.266667</td>\n",
       "      <td>-1.923613</td>\n",
       "      <td>37</td>\n",
       "      <td>-0.264055</td>\n",
       "      <td>3.401361</td>\n",
       "      <td>-111.000000</td>\n",
       "      <td>1.955274e+06</td>\n",
       "      <td>NaN</td>\n",
       "      <td>Non-AF</td>\n",
       "    </tr>\n",
       "  </tbody>\n",
       "</table>\n",
       "<p>5501 rows × 12 columns</p>\n",
       "</div>"
      ],
      "text/plain": [
       "      mean_P_Peaks  mean_Q_Peaks         HRV  mean_T_Peaks  kurt_R_Peaks  age  \\\n",
       "4383     92.050000    -69.550000  331.332091     39.200000      2.548453   53   \n",
       "3538     38.272727    -66.363636  275.412170     62.545455     -1.939266   80   \n",
       "4943     33.052632   -159.263158  187.249508    106.684211     -1.991971   53   \n",
       "5810    -74.571429   -157.380952  255.537891    364.095238     -1.886651   15   \n",
       "3429    137.625000   -164.375000  310.791616     73.062500     -0.468678   76   \n",
       "...            ...           ...         ...           ...           ...  ...   \n",
       "3772     -8.666667    -74.916667  229.332055    132.208333      5.629034   63   \n",
       "5191    109.410256    -91.717949  337.199422     45.461538     15.295272   64   \n",
       "5226     11.600000    -28.466667  289.548533     48.933333      0.848942   75   \n",
       "5390     38.600000   -130.600000  307.268516    174.500000     -1.650002   48   \n",
       "860      27.500000   -160.812500  173.643610    188.266667     -1.923613   37   \n",
       "\n",
       "      skew_R_Peaks      fmax  mean_S_Peaks   std_R_Peaks  PT_duration   label  \n",
       "4383     -2.085590  6.823821   -165.050000  6.420436e+05   519.400000  Non-AF  \n",
       "3538      0.116944  3.476934    -60.272727  9.170248e+05   535.090909  Non-AF  \n",
       "4943      0.006135  4.072592     -3.473684  2.103260e+06   572.421053  Non-AF  \n",
       "5810      0.097520  1.047819   -268.619048  4.525275e+06   487.809524  Non-AF  \n",
       "3429     -1.126299  2.604989    -90.812500  1.158203e+06   481.000000  Non-AF  \n",
       "...            ...       ...           ...           ...          ...     ...  \n",
       "3772      1.715212  0.762050    -69.375000  7.042247e+05   574.833333      AF  \n",
       "5191     -3.656884  2.926359   -145.923077  4.360616e+05   497.948718  Non-AF  \n",
       "5226     -1.590086  3.101240    -67.533333  3.631268e+05   487.600000      AF  \n",
       "5390     -0.294958  2.100840   -193.400000  3.802282e+05   551.800000  Non-AF  \n",
       "860      -0.264055  3.401361   -111.000000  1.955274e+06          NaN  Non-AF  \n",
       "\n",
       "[5501 rows x 12 columns]"
      ]
     },
     "execution_count": 7,
     "metadata": {},
     "output_type": "execute_result"
    }
   ],
   "source": [
    "from sklearn.model_selection import train_test_split\n",
    "df = pd.read_feather('datasets/fitted/af-dataset-' + lead)\n",
    "\n",
    "y = df['label']\n",
    "X = df.drop('label', axis=1)\n",
    "X_train, X_eval, y_train, y_eval = train_test_split(X, y, test_size=0.2, random_state=42)\n",
    "\n",
    "df_train = X_train.copy()\n",
    "df_eval = X_eval.copy()\n",
    "df_train.insert(loc=len(X_train.columns), column='label', value=y_train)\n",
    "df_eval.insert(loc=len(X_eval.columns), column='label', value=y_eval)\n",
    "\n",
    "df_train.drop(['index'], axis=1, inplace=True)\n",
    "df_eval.drop(['index'], axis=1, inplace=True)\n",
    "df_train"
   ]
  },
  {
   "cell_type": "code",
   "execution_count": 8,
   "metadata": {},
   "outputs": [
    {
     "data": {
      "text/html": [
       "<div>\n",
       "<style scoped>\n",
       "    .dataframe tbody tr th:only-of-type {\n",
       "        vertical-align: middle;\n",
       "    }\n",
       "\n",
       "    .dataframe tbody tr th {\n",
       "        vertical-align: top;\n",
       "    }\n",
       "\n",
       "    .dataframe thead th {\n",
       "        text-align: right;\n",
       "    }\n",
       "</style>\n",
       "<table border=\"1\" class=\"dataframe\">\n",
       "  <thead>\n",
       "    <tr style=\"text-align: right;\">\n",
       "      <th></th>\n",
       "      <th>AF</th>\n",
       "      <th>Non-AF</th>\n",
       "    </tr>\n",
       "  </thead>\n",
       "  <tbody>\n",
       "    <tr>\n",
       "      <th>count</th>\n",
       "      <td>5501.000000</td>\n",
       "      <td>5501.000000</td>\n",
       "    </tr>\n",
       "    <tr>\n",
       "      <th>mean</th>\n",
       "      <td>0.179967</td>\n",
       "      <td>0.820033</td>\n",
       "    </tr>\n",
       "    <tr>\n",
       "      <th>std</th>\n",
       "      <td>0.384195</td>\n",
       "      <td>0.384195</td>\n",
       "    </tr>\n",
       "    <tr>\n",
       "      <th>min</th>\n",
       "      <td>0.000000</td>\n",
       "      <td>0.000000</td>\n",
       "    </tr>\n",
       "    <tr>\n",
       "      <th>25%</th>\n",
       "      <td>0.000000</td>\n",
       "      <td>1.000000</td>\n",
       "    </tr>\n",
       "    <tr>\n",
       "      <th>50%</th>\n",
       "      <td>0.000000</td>\n",
       "      <td>1.000000</td>\n",
       "    </tr>\n",
       "    <tr>\n",
       "      <th>75%</th>\n",
       "      <td>0.000000</td>\n",
       "      <td>1.000000</td>\n",
       "    </tr>\n",
       "    <tr>\n",
       "      <th>max</th>\n",
       "      <td>1.000000</td>\n",
       "      <td>1.000000</td>\n",
       "    </tr>\n",
       "  </tbody>\n",
       "</table>\n",
       "</div>"
      ],
      "text/plain": [
       "                AF       Non-AF\n",
       "count  5501.000000  5501.000000\n",
       "mean      0.179967     0.820033\n",
       "std       0.384195     0.384195\n",
       "min       0.000000     0.000000\n",
       "25%       0.000000     1.000000\n",
       "50%       0.000000     1.000000\n",
       "75%       0.000000     1.000000\n",
       "max       1.000000     1.000000"
      ]
     },
     "execution_count": 8,
     "metadata": {},
     "output_type": "execute_result"
    }
   ],
   "source": [
    "labels = pd.get_dummies(df_train['label'])\n",
    "labels.describe()"
   ]
  },
  {
   "cell_type": "code",
   "execution_count": 9,
   "metadata": {},
   "outputs": [
    {
     "data": {
      "text/plain": [
       "0.9632829373650108"
      ]
     },
     "execution_count": 9,
     "metadata": {},
     "output_type": "execute_result"
    }
   ],
   "source": [
    "X_train, y_train, nas = proc_df(df_train, 'label')\n",
    "X_eval, y_eval, nas = proc_df(df_eval, 'label', na_dict=nas)\n",
    "\n",
    "m_af = RandomForestClassifier(n_estimators=1000, min_samples_leaf=1, max_features='sqrt', n_jobs=7, oob_score=True)\n",
    "m_af.fit(X_train, y_train)\n",
    "\n",
    "f1_score(y_eval, m_af.predict(X_eval))"
   ]
  },
  {
   "cell_type": "code",
   "execution_count": 10,
   "metadata": {},
   "outputs": [],
   "source": [
    "mlflow.set_experiment('AF_sampling_testing-' + lead)\n",
    "with mlflow.start_run() as run:\n",
    "    mlflow.log_params({'n_estimators': '1000', 'min_samples_leaf': '1', 'max_features': 'sqrt'})\n",
    "    mlflow.log_param('n_Features', len(list(X_train.columns)))\n",
    "    mlflow.log_param('AF mean', labels['AF'].mean())\n",
    "    mlflow.log_metric('f1_score', f1_score(y_eval, m_af.predict(X_eval)))\n",
    "    mlflow.log_metric('f2_score', fbeta_score(y_eval, m_af.predict(X_eval), beta=2))"
   ]
  },
  {
   "cell_type": "markdown",
   "metadata": {},
   "source": [
    "### Oversampling to improve AF representation in the dataset"
   ]
  },
  {
   "cell_type": "code",
   "execution_count": 10,
   "metadata": {},
   "outputs": [],
   "source": [
    "# Class count\n",
    "count_non, count_af = df_train.label.value_counts()\n",
    "\n",
    "# Divide by class\n",
    "df_af = df_train[df_train['label'] == 'AF']\n",
    "df_non = df_train[df_train['label'] == 'Non-AF']\n",
    "\n",
    "df_af_over = df_af.sample(int(count_non*0.4), replace=True)\n",
    "df_train_over = pd.concat([df_non, df_af_over], axis=0)"
   ]
  },
  {
   "cell_type": "code",
   "execution_count": 10,
   "metadata": {},
   "outputs": [],
   "source": [
    "df_train = pd.concat([df_train[(df_train.loc[:, 'label'] == 'AF')], df_train])"
   ]
  },
  {
   "cell_type": "code",
   "execution_count": 11,
   "metadata": {},
   "outputs": [
    {
     "data": {
      "text/html": [
       "<div>\n",
       "<style scoped>\n",
       "    .dataframe tbody tr th:only-of-type {\n",
       "        vertical-align: middle;\n",
       "    }\n",
       "\n",
       "    .dataframe tbody tr th {\n",
       "        vertical-align: top;\n",
       "    }\n",
       "\n",
       "    .dataframe thead th {\n",
       "        text-align: right;\n",
       "    }\n",
       "</style>\n",
       "<table border=\"1\" class=\"dataframe\">\n",
       "  <thead>\n",
       "    <tr style=\"text-align: right;\">\n",
       "      <th></th>\n",
       "      <th>AF</th>\n",
       "      <th>Non-AF</th>\n",
       "    </tr>\n",
       "  </thead>\n",
       "  <tbody>\n",
       "    <tr>\n",
       "      <th>count</th>\n",
       "      <td>6315.000000</td>\n",
       "      <td>6315.000000</td>\n",
       "    </tr>\n",
       "    <tr>\n",
       "      <th>mean</th>\n",
       "      <td>0.285669</td>\n",
       "      <td>0.714331</td>\n",
       "    </tr>\n",
       "    <tr>\n",
       "      <th>std</th>\n",
       "      <td>0.451768</td>\n",
       "      <td>0.451768</td>\n",
       "    </tr>\n",
       "    <tr>\n",
       "      <th>min</th>\n",
       "      <td>0.000000</td>\n",
       "      <td>0.000000</td>\n",
       "    </tr>\n",
       "    <tr>\n",
       "      <th>25%</th>\n",
       "      <td>0.000000</td>\n",
       "      <td>0.000000</td>\n",
       "    </tr>\n",
       "    <tr>\n",
       "      <th>50%</th>\n",
       "      <td>0.000000</td>\n",
       "      <td>1.000000</td>\n",
       "    </tr>\n",
       "    <tr>\n",
       "      <th>75%</th>\n",
       "      <td>1.000000</td>\n",
       "      <td>1.000000</td>\n",
       "    </tr>\n",
       "    <tr>\n",
       "      <th>max</th>\n",
       "      <td>1.000000</td>\n",
       "      <td>1.000000</td>\n",
       "    </tr>\n",
       "  </tbody>\n",
       "</table>\n",
       "</div>"
      ],
      "text/plain": [
       "                AF       Non-AF\n",
       "count  6315.000000  6315.000000\n",
       "mean      0.285669     0.714331\n",
       "std       0.451768     0.451768\n",
       "min       0.000000     0.000000\n",
       "25%       0.000000     0.000000\n",
       "50%       0.000000     1.000000\n",
       "75%       1.000000     1.000000\n",
       "max       1.000000     1.000000"
      ]
     },
     "execution_count": 11,
     "metadata": {},
     "output_type": "execute_result"
    }
   ],
   "source": [
    "labels = pd.get_dummies(df_train_over['label'])\n",
    "labels.describe()"
   ]
  },
  {
   "cell_type": "code",
   "execution_count": 14,
   "metadata": {},
   "outputs": [
    {
     "data": {
      "text/plain": [
       "0.9648894668400522"
      ]
     },
     "execution_count": 14,
     "metadata": {},
     "output_type": "execute_result"
    }
   ],
   "source": [
    "X_train, y_train, nas = proc_df(df_train_over, 'label')\n",
    "X_eval, y_eval, nas = proc_df(df_eval, 'label', na_dict=nas)\n",
    "\n",
    "m_af = RandomForestClassifier(n_estimators=1000, min_samples_leaf=1, max_features='sqrt', n_jobs=7, oob_score=True)\n",
    "m_af.fit(X_train, y_train)\n",
    "\n",
    "f1_score(y_eval, m_af.predict(X_eval))"
   ]
  },
  {
   "cell_type": "code",
   "execution_count": 14,
   "metadata": {},
   "outputs": [],
   "source": [
    "mlflow.set_experiment('AF_sampling_testing-' + lead)\n",
    "with mlflow.start_run() as run:\n",
    "    mlflow.log_params({'n_estimators': '1000', 'min_samples_leaf': '1', 'max_features': 'sqrt'})\n",
    "    mlflow.log_param('n_Features', len(list(X_train.columns)))\n",
    "    mlflow.log_param('AF mean', labels['AF'].mean())\n",
    "    mlflow.log_metric('f1_score', f1_score(y_eval, m_af.predict(X_eval)))\n",
    "    mlflow.log_metric('f2_score', fbeta_score(y_eval, m_af.predict(X_eval), beta=2))"
   ]
  },
  {
   "cell_type": "code",
   "execution_count": 18,
   "metadata": {},
   "outputs": [],
   "source": [
    "os.makedirs('datasets/fitted', exist_ok=True)\n",
    "columns = list(X_train.columns)\n",
    "\n",
    "columns.append('label')\n",
    "\n",
    "df = pd.concat([df_train, df_eval])\n",
    "df.reset_index(inplace=True)\n",
    "\n",
    "df.to_feather('datasets/fitted/af-dataset-' + lead + '-oversampled')"
   ]
  },
  {
   "cell_type": "markdown",
   "metadata": {},
   "source": [
    "We save the current model to disk"
   ]
  },
  {
   "cell_type": "code",
   "execution_count": 19,
   "metadata": {},
   "outputs": [],
   "source": [
    "pickle.dump(m_af, open('models/af/base/lead2-oversampled.sav', 'wb'))"
   ]
  },
  {
   "cell_type": "code",
   "execution_count": 117,
   "metadata": {},
   "outputs": [],
   "source": [
    "m_af = pickle.load(open('models/af/base/lead2.sav', 'rb'))"
   ]
  }
 ],
 "metadata": {
  "kernelspec": {
   "display_name": "Python 3",
   "language": "python",
   "name": "python3"
  },
  "language_info": {
   "codemirror_mode": {
    "name": "ipython",
    "version": 3
   },
   "file_extension": ".py",
   "mimetype": "text/x-python",
   "name": "python",
   "nbconvert_exporter": "python",
   "pygments_lexer": "ipython3",
   "version": "3.6.10"
  }
 },
 "nbformat": 4,
 "nbformat_minor": 4
}
