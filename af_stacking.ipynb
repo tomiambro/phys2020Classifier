{
 "cells": [
  {
   "cell_type": "code",
   "execution_count": 1,
   "metadata": {},
   "outputs": [],
   "source": [
    "import pandas as pd\n",
    "from sklearn.ensemble import RandomForestClassifier\n",
    "from sklearn.ensemble import ExtraTreesClassifier\n",
    "from sklearn.ensemble import GradientBoostingClassifier\n",
    "from sklearn.ensemble import StackingClassifier\n",
    "from aux_funcs import proc_df, numericalize, fix_missing\n",
    "from sklearn import metrics\n",
    "from sklearn.metrics import f1_score, fbeta_score, precision_score, recall_score\n",
    "from sklearn.model_selection import train_test_split"
   ]
  },
  {
   "cell_type": "code",
   "execution_count": 2,
   "metadata": {},
   "outputs": [],
   "source": [
    "df = pd.read_feather('datasets/fitted/af-dataset-lead2')\n",
    "\n",
    "y = df['label']\n",
    "X = df.drop('label', axis=1)\n",
    "X_train, X_eval, y_train, y_eval = train_test_split(X, y, test_size=0.2, random_state=42)\n",
    "\n",
    "df_train = X_train.copy()\n",
    "df_eval = X_eval.copy()\n",
    "df_train.insert(loc=len(X_train.columns), column='label', value=y_train)\n",
    "df_eval.insert(loc=len(X_eval.columns), column='label', value=y_eval)\n",
    "\n",
    "X_train, y_train, nas = proc_df(df_train, 'label')\n",
    "X_eval, y_eval, nas = proc_df(df_eval, 'label', na_dict=nas)"
   ]
  },
  {
   "cell_type": "code",
   "execution_count": 3,
   "metadata": {},
   "outputs": [],
   "source": [
    "classifiers = [\n",
    "    ('rf1', RandomForestClassifier(n_estimators=100, max_features='sqrt', n_jobs=7)),\n",
    "    ('rf2', RandomForestClassifier(n_estimators=100, max_features='log2', n_jobs=7)),\n",
    "    # ('gb', GradientBoostingClassifier(n_estimators=100, random_state = 0, loss='exponential')),\n",
    "    ('et', ExtraTreesClassifier(n_estimators=100, max_features='sqrt', n_jobs=7)),\n",
    "    # ('et2', ExtraTreesClassifier(n_estimators=100, max_features='log2', n_jobs=7)),\n",
    "]"
   ]
  },
  {
   "cell_type": "code",
   "execution_count": 4,
   "metadata": {},
   "outputs": [
    {
     "name": "stdout",
     "output_type": "stream",
     "text": [
      "Training Set Metrics:\n",
      "Precision: 1.0\n",
      "Recall: 1.0\n",
      "F1 Score: 1.0\n",
      "----------------------------------------------------------------------------------------------\n",
      "Evaluation Set Metrics:\n",
      "Precision: 0.9669852302345786\n",
      "Recall: 0.9720524017467249\n",
      "F1 Score: 0.9695121951219511\n"
     ]
    }
   ],
   "source": [
    "m_af = StackingClassifier(estimators=classifiers)\n",
    "m_af.fit(X_train, y_train)\n",
    "\n",
    "print('Training Set Metrics:')\n",
    "print(f'Precision: {precision_score(y_train, m_af.predict(X_train))}')\n",
    "print(f'Recall: {recall_score(y_train, m_af.predict(X_train))}')\n",
    "print(f'F1 Score: {f1_score(y_train, m_af.predict(X_train))}')\n",
    "print('----------------------------------------------------------------------------------------------')\n",
    "print('Evaluation Set Metrics:')\n",
    "print(f'Precision: {precision_score(y_eval, m_af.predict(X_eval))}')\n",
    "print(f'Recall: {recall_score(y_eval, m_af.predict(X_eval))}')\n",
    "print(f'F1 Score: {f1_score(y_eval, m_af.predict(X_eval))}')"
   ]
  }
 ],
 "metadata": {
  "kernelspec": {
   "display_name": "Python 3",
   "language": "python",
   "name": "python3"
  },
  "language_info": {
   "codemirror_mode": {
    "name": "ipython",
    "version": 3
   },
   "file_extension": ".py",
   "mimetype": "text/x-python",
   "name": "python",
   "nbconvert_exporter": "python",
   "pygments_lexer": "ipython3",
   "version": "3.6.11"
  }
 },
 "nbformat": 4,
 "nbformat_minor": 4
}
